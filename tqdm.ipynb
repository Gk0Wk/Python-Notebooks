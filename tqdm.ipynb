{
 "metadata": {
  "language_info": {
   "codemirror_mode": {
    "name": "ipython",
    "version": 3
   },
   "file_extension": ".py",
   "mimetype": "text/x-python",
   "name": "python",
   "nbconvert_exporter": "python",
   "pygments_lexer": "ipython3",
   "version": "3.9.4-final"
  },
  "orig_nbformat": 2,
  "kernelspec": {
   "name": "python3",
   "display_name": "Python 3",
   "language": "python"
  }
 },
 "nbformat": 4,
 "nbformat_minor": 2,
 "cells": [
  {
   "source": [
    "# `tqdm`进度条教程 (Jupyter Notebook版)\n",
    "\n",
    "作者：Sttot(nmg_wk@yeah.net)  [GitHub](https://github.com/Gk0Wk)\n",
    "\n",
    "本教程为结合若干开源教程和个人学习总结的成果，参考资料均为开源免费，请勿将此教程用于商业目的。欢迎转发和补充，转发请标明出处和作者。\n",
    "\n",
    "---\n",
    "\n",
    "参考资料:"
   ],
   "cell_type": "markdown",
   "metadata": {}
  },
  {
   "source": [
    "这是一款封装易用的进度条库，可以在命令行显示进度条(可自己定制)。\n",
    "\n",
    "## 描述与使用\n",
    "\n",
    "`tqmd`实例是一个可迭代对象(如`list`，`range()`等)，其构造`tqdm()`传入一个迭代对象，迭代这个对象将返回之前传入的迭代对象的元素，同时`tqdm`会级数并刷新进度条，这就是工作原理。所以使用方法是：\n",
    "\n",
    "- 有一个迭代对象作为要跟踪的\"进度\"；\n",
    "- 将这个对象传入`tqdm()`构造`tqdm`对象；\n",
    "- 迭代`tqdm`，会自动显示进度。"
   ],
   "cell_type": "markdown",
   "metadata": {}
  },
  {
   "source": [
    "## 几种构造方法\n",
    "\n",
    "### 简单的在for中构造，改造原项目很方便"
   ],
   "cell_type": "markdown",
   "metadata": {}
  },
  {
   "cell_type": "code",
   "execution_count": 32,
   "metadata": {},
   "outputs": [
    {
     "output_type": "stream",
     "name": "stderr",
     "text": [
      "100%|██████████| 100/100 [00:01<00:00, 86.71it/s]\n",
      "100%|\u001b[32m██████████\u001b[0m| 100/100 [00:01<00:00, 86.37it/s]\n"
     ]
    }
   ],
   "source": [
    "from tqdm import tqdm, trange\n",
    "from time import sleep\n",
    "\n",
    "for i in tqdm(range(100)): # 注意 i 还会是 0~99\n",
    "    sleep(0.01)\n",
    "for i in trange(100, colour='green'):      # 下面这种是上面的简写\n",
    "    sleep(0.01)"
   ]
  },
  {
   "source": [
    "### 先构造，再迭代\n",
    "\n",
    "`tqdm`不仅可以迭代，还可以在迭代过程中设置其属性，所以可以这样做："
   ],
   "cell_type": "markdown",
   "metadata": {}
  },
  {
   "cell_type": "code",
   "execution_count": 30,
   "metadata": {},
   "outputs": [
    {
     "output_type": "stream",
     "name": "stderr",
     "text": [
      "Loss: 0.00010101: 100%|██████████| 10000/10000 [01:54<00:00, 87.25epoch/s]\n"
     ]
    }
   ],
   "source": [
    "from tqdm import trange\n",
    "from time import sleep\n",
    "\n",
    "epoches = trange(10000, unit='epoch')\n",
    "for epoch in epoches:\n",
    "    sleep(0.01)\n",
    "    if epoch % 100 == 0:\n",
    "        epoches.set_description(\"Loss: %.8f\" % (1/(epoch+0.00025)))"
   ]
  },
  {
   "source": [
    "### 不迭代，手动更新\n",
    "\n",
    "只构造`tqdm`，然后手动更新，适用于进度条机制更复杂的情况。这种情况下要手动调用`update()`方法来刷新进度条，同时在最后要记得使用`close()`释放渲染(或者使用`with`)。"
   ],
   "cell_type": "markdown",
   "metadata": {}
  },
  {
   "cell_type": "code",
   "execution_count": 2,
   "metadata": {},
   "outputs": [
    {
     "output_type": "display_data",
     "data": {
      "text/plain": "  0%|          | 0/100 [00:00<?, ?it/s]",
      "application/vnd.jupyter.widget-view+json": {
       "version_major": 2,
       "version_minor": 0,
       "model_id": "377371d7fecb4025adab88cd3446db91"
      }
     },
     "metadata": {}
    }
   ],
   "source": [
    "from tqdm import trange\n",
    "from time import sleep\n",
    "\n",
    "pbar = tqdm(total=100) # 这种情况需要指定最大计数\n",
    "for i in range(10):\n",
    "    sleep(0.1)\n",
    "    pbar.update(10)    # 让其增加10\n",
    "pbar.close()           # 释放渲染"
   ]
  },
  {
   "source": [
    "## 构造方法\n",
    "\n",
    "```\n",
    "<description> xx%|██████      | count/total [已花时间<还剩时间, 速度] <postfix>\n",
    "```"
   ],
   "cell_type": "markdown",
   "metadata": {}
  },
  {
   "cell_type": "code",
   "execution_count": null,
   "metadata": {},
   "outputs": [],
   "source": [
    "def __init__ (self, \n",
    "    iterable=None,       # 输入的迭代对象，获得下一个迭代+统计次数，如果留空则手动统计\n",
    "    desc=None,           # <prefix>的文字，默认为空\n",
    "    total=None,          # 预期迭代次数总数(int或float)，没有时尽量使用len(iterable);\n",
    "                         # 如果没有total也没有iterable或者total是float('inf')，就不显示total和预测只显示基本计数\n",
    "                         # 如果一开始不知道总数应该是多少而需要之后手动更细，那么请设置成一个比较大的数\n",
    "    leave=True,          # 进度条完成后是否还会保留进度条，None则在0位置才会不保留\n",
    "    file=None,           # 指定输出位置(默认是stderr)，可以指定 io.TextIOWrapper 或 io.StringIO，\n",
    "    ncols=None,          # 进度条宽度，自己去看文档\n",
    "    mininterval=0.1,     # 最短刷新时长(秒)\n",
    "    maxinterval=10.0,    # 最长刷新时长(秒)。在长时间的显示更新滞后，自动调整miniters以对应mininterval。只有在启用了dynamic_miniters或监控线程的情况下才有效。\n",
    "    miniters=None,       # 最小进度显示更新间隔，看文档\n",
    "    ascii=None,          # 只使用 ' 123456789#' 字符，进度条为#\n",
    "    disable=False,       # 是否禁用整个进度条包装[默认：False]。如果设置为None，则在非TTY上禁用。\n",
    "    unit='it',           # 迭代单位\n",
    "    unit_scale=False,    # 如果是1或True，将自动减少/缩放迭代次数，并按照国际单位制标准添加公制前缀（公斤、兆等）[默认：False]。如果是其他任何非零的数字，将缩放总数和n。\n",
    "    dynamic_ncols=False, # 如果设置，根据环境不断改变ncols和nrows（允许调整窗口大小）[默认：False]。\n",
    "    smoothing=0.3,       # 平滑进度条，速度估计的指数移动平均平滑系数（在GUI模式下忽略）。 范围从0（平均速度）到1（当前/瞬时速度）[默认值：0.3]。范围从0（平均速度）到1（当前/瞬时速度）[默认：0.3]。\n",
    "    bar_format=None,     # 指定自定义条形字符串格式。可能会影响性能。\n",
    "                         # 默认：'{l_bar}{bar}{r_bar}']\n",
    "                         # 其中l_bar='{desc}: {percentage:3.0f}%|'和r_bar='|{n_fmt}/{total_fmt}。[{elapsed}<{remaining}, ' '{rate_fmt}{postfix}]'\n",
    "                         # 可能的变量。l_bar, bar, r_bar, n, n_fmt, total, total_fmt, percentage,\n",
    "                         #           elapsed, elapsed_s, ncols, nrows, desc, unit, rate, rate_fmt,\n",
    "                         #           rate_noinv, rate_noinv_fmt, rate_inv, rate_inv_fmt, postfix, unit_divisor, remaining, remaining_s, eta. \n",
    "                         # 请注意，如果{desc}为空，后面的\": \"会自动删除。\n",
    "    initial=0,           # 计数器的初始值。在重新启动进度条时很有用[默认值：0]。如果使用浮点数，可以考虑在bar_format中指定{n:.3f}或类似的值，或者指定单位比例。\n",
    "    position=None,       # 指定打印该进度条的行偏移量（从0开始） 如果没有指定，则自动。用于同时管理显示多个进度条\n",
    "    postfix=None,        # 指定额外的统计信息以显示在栏的最后。如果传入dict的话，调用set_postfix(**postfix)。\n",
    "    unit_divisor=1000,   # [默认值：1000]，除非unit_scale为True，否则忽略。\n",
    "    write_bytes=None,    # 如果(默认：None)且文件未指定，则将用Python 2写入字节。如果为True也将写入字节。在所有其他情况下，将默认为unicode。\n",
    "    lock_args=None,      # 传递给刷新的中间输出（初始化、迭代和更新）。\n",
    "    nrows=None,          # 屏幕高度。如果指定了，则隐藏嵌套在此范围外的条形图，如果未指定，则尝试使用环境高度。如果未指定，则尝试使用环境高度。后备值为20。\n",
    "    colour=None,         # 进度条颜色，如'#00FF00'，'green'\n",
    "    delay=0              # 在几秒过后才显示。\n",
    "    ):"
   ]
  },
  {
   "source": [
    "## 更多实用方法\n",
    "\n",
    "- `set_description`\n",
    "- `set_postfix`\n",
    "- ...\n",
    "\n",
    "更多请见：https://github.com/tqdm/tqdm\n",
    "\n",
    "## 与Notebook联动："
   ],
   "cell_type": "markdown",
   "metadata": {}
  },
  {
   "cell_type": "code",
   "execution_count": 1,
   "metadata": {},
   "outputs": [
    {
     "output_type": "display_data",
     "data": {
      "text/plain": "1st loop:   0%|          | 0/3 [00:00<?, ?it/s]",
      "application/vnd.jupyter.widget-view+json": {
       "version_major": 2,
       "version_minor": 0,
       "model_id": "20a23c66aea04a009fe95836927d8756"
      }
     },
     "metadata": {}
    },
    {
     "output_type": "display_data",
     "data": {
      "text/plain": "2nd loop:   0%|          | 0/100 [00:00<?, ?it/s]",
      "application/vnd.jupyter.widget-view+json": {
       "version_major": 2,
       "version_minor": 0,
       "model_id": "c1cd2cedf4e34f82a429beb680e9bacd"
      }
     },
     "metadata": {}
    },
    {
     "output_type": "display_data",
     "data": {
      "text/plain": "2nd loop:   0%|          | 0/100 [00:00<?, ?it/s]",
      "application/vnd.jupyter.widget-view+json": {
       "version_major": 2,
       "version_minor": 0,
       "model_id": "49338bda4cc24019be9a356d49c9d3a9"
      }
     },
     "metadata": {}
    },
    {
     "output_type": "display_data",
     "data": {
      "text/plain": "2nd loop:   0%|          | 0/100 [00:00<?, ?it/s]",
      "application/vnd.jupyter.widget-view+json": {
       "version_major": 2,
       "version_minor": 0,
       "model_id": "9909726a08f84e868d129e5b3be212a9"
      }
     },
     "metadata": {}
    }
   ],
   "source": [
    "from tqdm.notebook import trange, tqdm\n",
    "from time import sleep\n",
    "\n",
    "for i in trange(3, desc='1st loop'):\n",
    "    for j in tqdm(range(100), desc='2nd loop'):\n",
    "        sleep(0.01)"
   ]
  }
 ]
}